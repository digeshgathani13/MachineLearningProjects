{
 "cells": [
  {
   "cell_type": "code",
   "execution_count": 1,
   "metadata": {},
   "outputs": [],
   "source": [
    "import numpy as np\n",
    "import pandas as pd\n",
    "import matplotlib.pyplot as plt\n",
    "import seaborn as sns\n",
    "\n",
    "%matplotlib inline"
   ]
  },
  {
   "cell_type": "code",
   "execution_count": 2,
   "metadata": {},
   "outputs": [
    {
     "name": "stdout",
     "output_type": "stream",
     "text": [
      "(32769, 10)\n",
      "(912363, 10)\n"
     ]
    }
   ],
   "source": [
    "path='D://SimpliLearn Projects//Machine Learning//Machine-Learning--Projects-master//Projects//Course End Projects//Project 9.2 - Amazon.com - Employee Access//Dataset for the project//'\n",
    "train = pd.read_csv(path+'train.csv')\n",
    "test = pd.read_csv(path+'test.csv')\n",
    "print(train.shape)\n",
    "print(test.shape)"
   ]
  },
  {
   "cell_type": "code",
   "execution_count": null,
   "metadata": {},
   "outputs": [],
   "source": [
    "train.info()"
   ]
  },
  {
   "cell_type": "code",
   "execution_count": null,
   "metadata": {},
   "outputs": [],
   "source": [
    "train.isnull().sum()"
   ]
  },
  {
   "cell_type": "code",
   "execution_count": null,
   "metadata": {},
   "outputs": [],
   "source": [
    "train.groupby('ACTION')['ACTION'].count()"
   ]
  },
  {
   "cell_type": "code",
   "execution_count": null,
   "metadata": {},
   "outputs": [],
   "source": [
    "y=train['ACTION']\n",
    "X = train[train.columns.difference(['ACTION'])]"
   ]
  },
  {
   "cell_type": "code",
   "execution_count": null,
   "metadata": {},
   "outputs": [],
   "source": [
    "from sklearn.model_selection import train_test_split\n",
    "x_train, x_test, y_train, y_test = train_test_split(X, y, test_size=0.2, random_state=0)"
   ]
  },
  {
   "cell_type": "code",
   "execution_count": null,
   "metadata": {},
   "outputs": [],
   "source": [
    "print(x_train.shape)\n",
    "print(x_test.shape)\n",
    "print(y_train.shape)\n",
    "print(y_test.shape)"
   ]
  },
  {
   "cell_type": "code",
   "execution_count": null,
   "metadata": {},
   "outputs": [],
   "source": [
    "from sklearn.linear_model import LogisticRegression\n",
    "from sklearn.metrics import accuracy_score\n",
    "lr = LogisticRegression(random_state=0, solver='lbfgs',multi_class='multinomial')\n",
    "lr.fit(x_train,y_train)\n",
    "y_pred = lr.predict(x_test)\n",
    "print('accuracy_score: ',accuracy_score(y_test, y_pred))"
   ]
  },
  {
   "cell_type": "code",
   "execution_count": null,
   "metadata": {},
   "outputs": [],
   "source": [
    "from sklearn.naive_bayes import GaussianNB\n",
    "gnb = GaussianNB()\n",
    "gnb.fit(x_train, y_train)\n",
    "y_pred = gnb.predict(x_test)\n",
    "print('accuracy_score: ',accuracy_score(y_test, y_pred))"
   ]
  },
  {
   "cell_type": "code",
   "execution_count": null,
   "metadata": {},
   "outputs": [],
   "source": [
    "from sklearn import svm\n",
    "clf = svm.SVC(gamma='scale')\n",
    "clf.fit(x_train, y_train)\n",
    "y_pred = clf.predict(x_test)\n",
    "print('accuracy_score: ',accuracy_score(y_test, y_pred))"
   ]
  },
  {
   "cell_type": "code",
   "execution_count": null,
   "metadata": {},
   "outputs": [],
   "source": [
    "from sklearn import tree\n",
    "clf = tree.DecisionTreeClassifier()\n",
    "clf = clf.fit(x_train, y_train)\n",
    "y_pred = clf.predict(x_test)\n",
    "print('accuracy_score: ',accuracy_score(y_test, y_pred))"
   ]
  },
  {
   "cell_type": "code",
   "execution_count": null,
   "metadata": {},
   "outputs": [],
   "source": [
    "from sklearn.ensemble import RandomForestRegressor\n",
    "rfReg = RandomForestRegressor(30)\n",
    "rfReg.fit(x_train,y_train)\n",
    "y_pred = rfReg.predict(x_test)\n",
    "print('accuracy_score: ',clf.score(x_test, y_test))"
   ]
  },
  {
   "cell_type": "code",
   "execution_count": null,
   "metadata": {},
   "outputs": [],
   "source": [
    "from sklearn.neural_network import MLPClassifier\n",
    "clf = MLPClassifier(solver='lbfgs', alpha=1e-5,hidden_layer_sizes=(5, 2), random_state=1)\n",
    "clf.fit(x_train, y_train)\n",
    "y_pred = clf.predict(x_test)\n",
    "print('accuracy_score: ',accuracy_score(y_test, y_pred))"
   ]
  },
  {
   "cell_type": "code",
   "execution_count": null,
   "metadata": {},
   "outputs": [],
   "source": [
    "from sklearn.neighbors import KNeighborsClassifier\n",
    "neigh = KNeighborsClassifier(n_neighbors=3)\n",
    "neigh.fit(x_train, y_train)\n",
    "y_pred = neigh.predict(x_test)\n",
    "print('accuracy_score: ',clf.score(x_test, y_test))"
   ]
  },
  {
   "cell_type": "code",
   "execution_count": null,
   "metadata": {},
   "outputs": [],
   "source": [
    "test.head()"
   ]
  },
  {
   "cell_type": "code",
   "execution_count": null,
   "metadata": {},
   "outputs": [],
   "source": [
    "test.shape"
   ]
  },
  {
   "cell_type": "code",
   "execution_count": 3,
   "metadata": {},
   "outputs": [
    {
     "name": "stderr",
     "output_type": "stream",
     "text": [
      "C:\\Users\\Digesh\\Anaconda3\\lib\\site-packages\\pandas\\core\\frame.py:6211: FutureWarning: Sorting because non-concatenation axis is not aligned. A future version\n",
      "of pandas will change to not sort by default.\n",
      "\n",
      "To accept the future behavior, pass 'sort=False'.\n",
      "\n",
      "To retain the current behavior and silence the warning, pass 'sort=True'.\n",
      "\n",
      "  sort=sort)\n"
     ]
    },
    {
     "data": {
      "text/plain": [
       "(945132, 10)"
      ]
     },
     "execution_count": 3,
     "metadata": {},
     "output_type": "execute_result"
    }
   ],
   "source": [
    "test.drop(['id'],axis=1,inplace=True)\n",
    "test['ACTION'] = 0\n",
    "data = train.append(test, ignore_index = True)\n",
    "data.shape"
   ]
  },
  {
   "cell_type": "code",
   "execution_count": 4,
   "metadata": {},
   "outputs": [
    {
     "data": {
      "text/html": [
       "<div>\n",
       "<style scoped>\n",
       "    .dataframe tbody tr th:only-of-type {\n",
       "        vertical-align: middle;\n",
       "    }\n",
       "\n",
       "    .dataframe tbody tr th {\n",
       "        vertical-align: top;\n",
       "    }\n",
       "\n",
       "    .dataframe thead th {\n",
       "        text-align: right;\n",
       "    }\n",
       "</style>\n",
       "<table border=\"1\" class=\"dataframe\">\n",
       "  <thead>\n",
       "    <tr style=\"text-align: right;\">\n",
       "      <th></th>\n",
       "      <th>ACTION</th>\n",
       "      <th>MGR_ID</th>\n",
       "      <th>RESOURCE</th>\n",
       "      <th>ROLE_CODE</th>\n",
       "      <th>ROLE_DEPTNAME</th>\n",
       "      <th>ROLE_FAMILY</th>\n",
       "      <th>ROLE_FAMILY_DESC</th>\n",
       "      <th>ROLE_ROLLUP_1</th>\n",
       "      <th>ROLE_ROLLUP_2</th>\n",
       "      <th>ROLE_TITLE</th>\n",
       "    </tr>\n",
       "  </thead>\n",
       "  <tbody>\n",
       "    <tr>\n",
       "      <th>count</th>\n",
       "      <td>945132.000000</td>\n",
       "      <td>945132.000000</td>\n",
       "      <td>945132.000000</td>\n",
       "      <td>945132.00000</td>\n",
       "      <td>945132.000000</td>\n",
       "      <td>945132.000000</td>\n",
       "      <td>945132.000000</td>\n",
       "      <td>945132.000000</td>\n",
       "      <td>945132.000000</td>\n",
       "      <td>945132.000000</td>\n",
       "    </tr>\n",
       "    <tr>\n",
       "      <th>mean</th>\n",
       "      <td>0.032664</td>\n",
       "      <td>29070.216546</td>\n",
       "      <td>38208.145866</td>\n",
       "      <td>119247.43254</td>\n",
       "      <td>121465.869494</td>\n",
       "      <td>170923.202926</td>\n",
       "      <td>158866.779366</td>\n",
       "      <td>117705.217178</td>\n",
       "      <td>118621.916453</td>\n",
       "      <td>135181.518571</td>\n",
       "    </tr>\n",
       "    <tr>\n",
       "      <th>std</th>\n",
       "      <td>0.177756</td>\n",
       "      <td>39975.744688</td>\n",
       "      <td>27606.895462</td>\n",
       "      <td>6132.69639</td>\n",
       "      <td>22733.262100</td>\n",
       "      <td>95266.052334</td>\n",
       "      <td>55403.282656</td>\n",
       "      <td>6504.607055</td>\n",
       "      <td>2291.824835</td>\n",
       "      <td>40212.516455</td>\n",
       "    </tr>\n",
       "    <tr>\n",
       "      <th>min</th>\n",
       "      <td>0.000000</td>\n",
       "      <td>25.000000</td>\n",
       "      <td>0.000000</td>\n",
       "      <td>117880.00000</td>\n",
       "      <td>4674.000000</td>\n",
       "      <td>3130.000000</td>\n",
       "      <td>4673.000000</td>\n",
       "      <td>4292.000000</td>\n",
       "      <td>23779.000000</td>\n",
       "      <td>117879.000000</td>\n",
       "    </tr>\n",
       "    <tr>\n",
       "      <th>25%</th>\n",
       "      <td>0.000000</td>\n",
       "      <td>5568.000000</td>\n",
       "      <td>18072.000000</td>\n",
       "      <td>118322.00000</td>\n",
       "      <td>118320.000000</td>\n",
       "      <td>118424.000000</td>\n",
       "      <td>119831.000000</td>\n",
       "      <td>117961.000000</td>\n",
       "      <td>118225.000000</td>\n",
       "      <td>118321.000000</td>\n",
       "    </tr>\n",
       "    <tr>\n",
       "      <th>50%</th>\n",
       "      <td>0.000000</td>\n",
       "      <td>15639.000000</td>\n",
       "      <td>34432.000000</td>\n",
       "      <td>118779.00000</td>\n",
       "      <td>118754.000000</td>\n",
       "      <td>144894.000000</td>\n",
       "      <td>131490.000000</td>\n",
       "      <td>117961.000000</td>\n",
       "      <td>118327.000000</td>\n",
       "      <td>118777.000000</td>\n",
       "    </tr>\n",
       "    <tr>\n",
       "      <th>75%</th>\n",
       "      <td>0.000000</td>\n",
       "      <td>46634.000000</td>\n",
       "      <td>45324.000000</td>\n",
       "      <td>119082.00000</td>\n",
       "      <td>120428.000000</td>\n",
       "      <td>268663.000000</td>\n",
       "      <td>169688.000000</td>\n",
       "      <td>118256.000000</td>\n",
       "      <td>118446.000000</td>\n",
       "      <td>128463.000000</td>\n",
       "    </tr>\n",
       "    <tr>\n",
       "      <th>max</th>\n",
       "      <td>1.000000</td>\n",
       "      <td>311823.000000</td>\n",
       "      <td>312153.000000</td>\n",
       "      <td>270691.00000</td>\n",
       "      <td>304069.000000</td>\n",
       "      <td>308574.000000</td>\n",
       "      <td>311867.000000</td>\n",
       "      <td>311178.000000</td>\n",
       "      <td>286791.000000</td>\n",
       "      <td>311867.000000</td>\n",
       "    </tr>\n",
       "  </tbody>\n",
       "</table>\n",
       "</div>"
      ],
      "text/plain": [
       "              ACTION         MGR_ID       RESOURCE     ROLE_CODE  \\\n",
       "count  945132.000000  945132.000000  945132.000000  945132.00000   \n",
       "mean        0.032664   29070.216546   38208.145866  119247.43254   \n",
       "std         0.177756   39975.744688   27606.895462    6132.69639   \n",
       "min         0.000000      25.000000       0.000000  117880.00000   \n",
       "25%         0.000000    5568.000000   18072.000000  118322.00000   \n",
       "50%         0.000000   15639.000000   34432.000000  118779.00000   \n",
       "75%         0.000000   46634.000000   45324.000000  119082.00000   \n",
       "max         1.000000  311823.000000  312153.000000  270691.00000   \n",
       "\n",
       "       ROLE_DEPTNAME    ROLE_FAMILY  ROLE_FAMILY_DESC  ROLE_ROLLUP_1  \\\n",
       "count  945132.000000  945132.000000     945132.000000  945132.000000   \n",
       "mean   121465.869494  170923.202926     158866.779366  117705.217178   \n",
       "std     22733.262100   95266.052334      55403.282656    6504.607055   \n",
       "min      4674.000000    3130.000000       4673.000000    4292.000000   \n",
       "25%    118320.000000  118424.000000     119831.000000  117961.000000   \n",
       "50%    118754.000000  144894.000000     131490.000000  117961.000000   \n",
       "75%    120428.000000  268663.000000     169688.000000  118256.000000   \n",
       "max    304069.000000  308574.000000     311867.000000  311178.000000   \n",
       "\n",
       "       ROLE_ROLLUP_2     ROLE_TITLE  \n",
       "count  945132.000000  945132.000000  \n",
       "mean   118621.916453  135181.518571  \n",
       "std      2291.824835   40212.516455  \n",
       "min     23779.000000  117879.000000  \n",
       "25%    118225.000000  118321.000000  \n",
       "50%    118327.000000  118777.000000  \n",
       "75%    118446.000000  128463.000000  \n",
       "max    286791.000000  311867.000000  "
      ]
     },
     "execution_count": 4,
     "metadata": {},
     "output_type": "execute_result"
    }
   ],
   "source": [
    "data.describe()"
   ]
  },
  {
   "cell_type": "code",
   "execution_count": 5,
   "metadata": {},
   "outputs": [
    {
     "data": {
      "text/html": [
       "<div>\n",
       "<style scoped>\n",
       "    .dataframe tbody tr th:only-of-type {\n",
       "        vertical-align: middle;\n",
       "    }\n",
       "\n",
       "    .dataframe tbody tr th {\n",
       "        vertical-align: top;\n",
       "    }\n",
       "\n",
       "    .dataframe thead th {\n",
       "        text-align: right;\n",
       "    }\n",
       "</style>\n",
       "<table border=\"1\" class=\"dataframe\">\n",
       "  <thead>\n",
       "    <tr style=\"text-align: right;\">\n",
       "      <th></th>\n",
       "      <th>ACTION</th>\n",
       "      <th>MGR_ID</th>\n",
       "      <th>RESOURCE</th>\n",
       "      <th>ROLE_CODE</th>\n",
       "      <th>ROLE_DEPTNAME</th>\n",
       "      <th>ROLE_FAMILY</th>\n",
       "      <th>ROLE_FAMILY_DESC</th>\n",
       "      <th>ROLE_ROLLUP_1</th>\n",
       "      <th>ROLE_ROLLUP_2</th>\n",
       "      <th>ROLE_TITLE</th>\n",
       "    </tr>\n",
       "  </thead>\n",
       "  <tbody>\n",
       "    <tr>\n",
       "      <th>0</th>\n",
       "      <td>1</td>\n",
       "      <td>85475</td>\n",
       "      <td>39353</td>\n",
       "      <td>117908</td>\n",
       "      <td>123472</td>\n",
       "      <td>290919</td>\n",
       "      <td>117906</td>\n",
       "      <td>117961</td>\n",
       "      <td>118300</td>\n",
       "      <td>117905</td>\n",
       "    </tr>\n",
       "    <tr>\n",
       "      <th>1</th>\n",
       "      <td>1</td>\n",
       "      <td>1540</td>\n",
       "      <td>17183</td>\n",
       "      <td>118539</td>\n",
       "      <td>123125</td>\n",
       "      <td>308574</td>\n",
       "      <td>118536</td>\n",
       "      <td>117961</td>\n",
       "      <td>118343</td>\n",
       "      <td>118536</td>\n",
       "    </tr>\n",
       "    <tr>\n",
       "      <th>2</th>\n",
       "      <td>1</td>\n",
       "      <td>14457</td>\n",
       "      <td>36724</td>\n",
       "      <td>117880</td>\n",
       "      <td>117884</td>\n",
       "      <td>19721</td>\n",
       "      <td>267952</td>\n",
       "      <td>118219</td>\n",
       "      <td>118220</td>\n",
       "      <td>117879</td>\n",
       "    </tr>\n",
       "    <tr>\n",
       "      <th>3</th>\n",
       "      <td>1</td>\n",
       "      <td>5396</td>\n",
       "      <td>36135</td>\n",
       "      <td>118322</td>\n",
       "      <td>119993</td>\n",
       "      <td>290919</td>\n",
       "      <td>240983</td>\n",
       "      <td>117961</td>\n",
       "      <td>118343</td>\n",
       "      <td>118321</td>\n",
       "    </tr>\n",
       "    <tr>\n",
       "      <th>4</th>\n",
       "      <td>1</td>\n",
       "      <td>5905</td>\n",
       "      <td>42680</td>\n",
       "      <td>119325</td>\n",
       "      <td>119569</td>\n",
       "      <td>19793</td>\n",
       "      <td>123932</td>\n",
       "      <td>117929</td>\n",
       "      <td>117930</td>\n",
       "      <td>119323</td>\n",
       "    </tr>\n",
       "  </tbody>\n",
       "</table>\n",
       "</div>"
      ],
      "text/plain": [
       "   ACTION  MGR_ID  RESOURCE  ROLE_CODE  ROLE_DEPTNAME  ROLE_FAMILY  \\\n",
       "0       1   85475     39353     117908         123472       290919   \n",
       "1       1    1540     17183     118539         123125       308574   \n",
       "2       1   14457     36724     117880         117884        19721   \n",
       "3       1    5396     36135     118322         119993       290919   \n",
       "4       1    5905     42680     119325         119569        19793   \n",
       "\n",
       "   ROLE_FAMILY_DESC  ROLE_ROLLUP_1  ROLE_ROLLUP_2  ROLE_TITLE  \n",
       "0            117906         117961         118300      117905  \n",
       "1            118536         117961         118343      118536  \n",
       "2            267952         118219         118220      117879  \n",
       "3            240983         117961         118343      118321  \n",
       "4            123932         117929         117930      119323  "
      ]
     },
     "execution_count": 5,
     "metadata": {},
     "output_type": "execute_result"
    }
   ],
   "source": [
    "data.head()"
   ]
  },
  {
   "cell_type": "code",
   "execution_count": 6,
   "metadata": {},
   "outputs": [
    {
     "data": {
      "text/plain": [
       "ACTION              0\n",
       "MGR_ID              0\n",
       "RESOURCE            0\n",
       "ROLE_CODE           0\n",
       "ROLE_DEPTNAME       0\n",
       "ROLE_FAMILY         0\n",
       "ROLE_FAMILY_DESC    0\n",
       "ROLE_ROLLUP_1       0\n",
       "ROLE_ROLLUP_2       0\n",
       "ROLE_TITLE          0\n",
       "dtype: int64"
      ]
     },
     "execution_count": 6,
     "metadata": {},
     "output_type": "execute_result"
    }
   ],
   "source": [
    "data.isnull().sum()"
   ]
  },
  {
   "cell_type": "code",
   "execution_count": 7,
   "metadata": {},
   "outputs": [
    {
     "data": {
      "text/plain": [
       "0    914260\n",
       "1     30872\n",
       "Name: ACTION, dtype: int64"
      ]
     },
     "execution_count": 7,
     "metadata": {},
     "output_type": "execute_result"
    },
    {
     "data": {
      "image/png": "[encoded data removed]",
      "text/plain": [
       "<Figure size 576x432 with 1 Axes>"
      ]
     },
     "metadata": {
      "needs_background": "light"
     },
     "output_type": "display_data"
    }
   ],
   "source": [
    "from collections import OrderedDict\n",
    "colors = OrderedDict({0: 'red', 1: 'orange'})\n",
    "poverty_mapping = OrderedDict({0: 'not access', 1: 'access'})\n",
    "\n",
    "# Labels for training\n",
    "train_labels = data.loc[(data['ACTION'].notnull()) , ['ACTION']]\n",
    "\n",
    "# Value counts of target\n",
    "label_counts = train_labels['ACTION'].value_counts().sort_index()\n",
    "\n",
    "# Bar plot of occurrences of each label\n",
    "label_counts.plot.bar(figsize = (8, 6), \n",
    "                      color = colors.values(),\n",
    "                      edgecolor = 'k', linewidth = 2)\n",
    "\n",
    "# Formatting\n",
    "plt.xlabel('Access Level'); plt.ylabel('Count'); \n",
    "plt.xticks([x - 1 for x in poverty_mapping.keys()], \n",
    "           list(poverty_mapping.values()), rotation = 60)\n",
    "plt.title('Access Level Breakdown');\n",
    "\n",
    "label_counts"
   ]
  },
  {
   "cell_type": "code",
   "execution_count": 8,
   "metadata": {},
   "outputs": [],
   "source": [
    "data_y=data['ACTION']\n",
    "data_X=data[data.columns.difference(['ACTION'])]"
   ]
  },
  {
   "cell_type": "code",
   "execution_count": 9,
   "metadata": {},
   "outputs": [],
   "source": [
    "from sklearn.model_selection import train_test_split\n",
    "x_train_d, x_test_d, y_train_d, y_test_d = train_test_split(data_X, data_y, test_size=0.3, random_state=0)"
   ]
  },
  {
   "cell_type": "code",
   "execution_count": 10,
   "metadata": {},
   "outputs": [
    {
     "name": "stdout",
     "output_type": "stream",
     "text": [
      "(661592, 9)\n",
      "(283540, 9)\n",
      "(661592,)\n",
      "(283540,)\n"
     ]
    }
   ],
   "source": [
    "print(x_train_d.shape)\n",
    "print(x_test_d.shape)\n",
    "print(y_train_d.shape)\n",
    "print(y_test_d.shape)"
   ]
  },
  {
   "cell_type": "code",
   "execution_count": 11,
   "metadata": {},
   "outputs": [
    {
     "name": "stdout",
     "output_type": "stream",
     "text": [
      "accuracy_score:  0.9670945898285956\n"
     ]
    }
   ],
   "source": [
    "from sklearn.linear_model import LogisticRegression\n",
    "from sklearn.metrics import accuracy_score\n",
    "lr = LogisticRegression(random_state=0, solver='lbfgs',multi_class='multinomial')\n",
    "lr.fit(x_train_d,y_train_d)\n",
    "y_pred_d = lr.predict(x_test_d)\n",
    "print('accuracy_score: ',accuracy_score(y_test_d, y_pred_d))"
   ]
  },
  {
   "cell_type": "code",
   "execution_count": 12,
   "metadata": {},
   "outputs": [
    {
     "name": "stdout",
     "output_type": "stream",
     "text": [
      "accuracy_score:  0.939331311278832\n"
     ]
    }
   ],
   "source": [
    "from sklearn.naive_bayes import GaussianNB\n",
    "gnb = GaussianNB()\n",
    "gnb.fit(x_train_d, y_train_d)\n",
    "y_pred_d = gnb.predict(x_test_d)\n",
    "print('accuracy_score: ',accuracy_score(y_test_d, y_pred_d))"
   ]
  },
  {
   "cell_type": "code",
   "execution_count": null,
   "metadata": {},
   "outputs": [],
   "source": [
    "from sklearn import svm\n",
    "clf = svm.SVC(gamma='scale')\n",
    "clf.fit(x_train_d, y_train_d)\n",
    "y_pred_d = clf.predict(x_test_d)\n",
    "print('accuracy_score: ',accuracy_score(y_test_d, y_pred_d))"
   ]
  },
  {
   "cell_type": "code",
   "execution_count": 13,
   "metadata": {},
   "outputs": [
    {
     "name": "stdout",
     "output_type": "stream",
     "text": [
      "accuracy_score:  0.9736756718628765\n"
     ]
    }
   ],
   "source": [
    "from sklearn import tree\n",
    "clf = tree.DecisionTreeClassifier()\n",
    "clf = clf.fit(x_train_d, y_train_d)\n",
    "y_pred_d = clf.predict(x_test_d)\n",
    "print('accuracy_score: ',accuracy_score(y_test_d, y_pred_d))"
   ]
  },
  {
   "cell_type": "code",
   "execution_count": 14,
   "metadata": {},
   "outputs": [
    {
     "name": "stdout",
     "output_type": "stream",
     "text": [
      "accuracy_score:  0.9736756718628765\n"
     ]
    }
   ],
   "source": [
    "from sklearn.ensemble import RandomForestRegressor\n",
    "rfReg = RandomForestRegressor(30)\n",
    "rfReg.fit(x_train_d,y_train_d)\n",
    "y_pred_d = rfReg.predict(x_test_d)\n",
    "print('accuracy_score: ',clf.score(x_test_d, y_test_d))"
   ]
  },
  {
   "cell_type": "code",
   "execution_count": 15,
   "metadata": {},
   "outputs": [
    {
     "name": "stdout",
     "output_type": "stream",
     "text": [
      "accuracy_score:  0.9663962756577555\n"
     ]
    }
   ],
   "source": [
    "from sklearn.neural_network import MLPClassifier\n",
    "clf = MLPClassifier(solver='lbfgs', alpha=1e-5,hidden_layer_sizes=(5, 2), random_state=1)\n",
    "clf.fit(x_train_d, y_train_d)\n",
    "y_pred_d = clf.predict(x_test_d)\n",
    "print('accuracy_score: ',accuracy_score(y_test_d, y_pred_d))"
   ]
  },
  {
   "cell_type": "code",
   "execution_count": 16,
   "metadata": {},
   "outputs": [
    {
     "name": "stdout",
     "output_type": "stream",
     "text": [
      "accuracy_score:  0.9663962756577555\n"
     ]
    }
   ],
   "source": [
    "from sklearn.neighbors import KNeighborsClassifier\n",
    "neigh = KNeighborsClassifier(n_neighbors=3)\n",
    "neigh.fit(x_train_d, y_train_d)\n",
    "y_pred_d = neigh.predict(x_test_d)\n",
    "print('accuracy_score: ',clf.score(x_test_d, y_test_d))"
   ]
  },
  {
   "cell_type": "code",
   "execution_count": null,
   "metadata": {},
   "outputs": [],
   "source": []
  }
 ],
 "metadata": {
  "kernelspec": {
   "display_name": "Python 3",
   "language": "python",
   "name": "python3"
  },
  "language_info": {
   "codemirror_mode": {
    "name": "ipython",
    "version": 3
   },
   "file_extension": ".py",
   "mimetype": "text/x-python",
   "name": "python",
   "nbconvert_exporter": "python",
   "pygments_lexer": "ipython3",
   "version": "3.7.1"
  }
 },
 "nbformat": 4,
 "nbformat_minor": 2
}
